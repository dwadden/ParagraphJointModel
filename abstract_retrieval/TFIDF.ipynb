{
 "cells": [
  {
   "cell_type": "code",
   "execution_count": null,
   "metadata": {},
   "outputs": [],
   "source": [
    "from sklearn.feature_extraction.text import TfidfVectorizer\n",
    "from nltk import word_tokenize\n",
    "from nltk.corpus import stopwords\n",
    "from string import punctuation\n",
    "from scipy.spatial import distance\n",
    "import pickle\n",
    "import json\n",
    "import numpy as np\n",
    "import jsonlines"
   ]
  },
  {
   "cell_type": "code",
   "execution_count": null,
   "metadata": {},
   "outputs": [],
   "source": [
    "claim_file = \"SciFact/claims_train.jsonl\"\n",
    "corpus_file = \"SciFact/corpus.jsonl\""
   ]
  },
  {
   "cell_type": "code",
   "execution_count": null,
   "metadata": {},
   "outputs": [],
   "source": [
    "corpus = {}\n",
    "with open(corpus_file) as f:\n",
    "    for line in f:\n",
    "        abstract = json.loads(line)\n",
    "        corpus[str(abstract[\"doc_id\"])] = abstract"
   ]
  },
  {
   "cell_type": "code",
   "execution_count": null,
   "metadata": {},
   "outputs": [],
   "source": [
    "claims = []\n",
    "with open(claim_file) as f:\n",
    "    for line in f:\n",
    "        claim = json.loads(line)\n",
    "        claims.append(claim)\n",
    "claims_by_id = {claim['id']:claim for claim in claims}"
   ]
  },
  {
   "cell_type": "code",
   "execution_count": null,
   "metadata": {},
   "outputs": [],
   "source": [
    "corpus_texts = []\n",
    "corpus_ids = []\n",
    "for k, v in corpus.items():\n",
    "    original_sentences = [v['title']] + v['abstract']\n",
    "    processed_paragraph = \" \".join(original_sentences)\n",
    "    corpus_texts.append(processed_paragraph)\n",
    "    corpus_ids.append(k)\n",
    "vectorizer = TfidfVectorizer(stop_words='english',\n",
    "                             ngram_range=(1, 2))\n",
    "corpus_ids = np.array(corpus_ids)\n",
    "corpus_vectors = vectorizer.fit_transform(corpus_texts)"
   ]
  },
  {
   "cell_type": "code",
   "execution_count": null,
   "metadata": {},
   "outputs": [],
   "source": [
    "claim_vectors = vectorizer.transform([claim['claim'] for claim in claims])"
   ]
  },
  {
   "cell_type": "code",
   "execution_count": null,
   "metadata": {},
   "outputs": [],
   "source": [
    "similarity_matrix = np.dot(corpus_vectors, claim_vectors.T).todense()"
   ]
  },
  {
   "cell_type": "code",
   "execution_count": null,
   "metadata": {},
   "outputs": [],
   "source": [
    "similarity_matrix.shape"
   ]
  },
  {
   "cell_type": "code",
   "execution_count": null,
   "metadata": {},
   "outputs": [],
   "source": [
    "k = 100\n",
    "orders = np.argsort(similarity_matrix,axis=0)\n",
    "retrieved_corpus = {claim[\"id\"]: corpus_ids[orders[:,i][::-1][:k]].squeeze() for i, claim in enumerate(claims)} "
   ]
  },
  {
   "cell_type": "code",
   "execution_count": null,
   "metadata": {},
   "outputs": [],
   "source": [
    "with jsonlines.open(\"SciFact/claims_train_retrieved_tfidf.jsonl\", 'w') as output:\n",
    "    claim_ids = sorted(list(claims_by_id.keys()))\n",
    "    for id in claim_ids:\n",
    "        claims_by_id[id][\"retrieved_doc_ids\"] = retrieved_corpus[id].tolist()\n",
    "        output.write(claims_by_id[id])"
   ]
  },
  {
   "cell_type": "code",
   "execution_count": null,
   "metadata": {},
   "outputs": [],
   "source": [
    "claim_file = \"SciFact/claims_dev.jsonl\""
   ]
  },
  {
   "cell_type": "code",
   "execution_count": null,
   "metadata": {},
   "outputs": [],
   "source": [
    "claims = []\n",
    "with open(claim_file) as f:\n",
    "    for line in f:\n",
    "        claim = json.loads(line)\n",
    "        claims.append(claim)\n",
    "claims_by_id = {claim['id']:claim for claim in claims}"
   ]
  },
  {
   "cell_type": "code",
   "execution_count": null,
   "metadata": {},
   "outputs": [],
   "source": [
    "claim_vectors = vectorizer.transform([claim['claim'] for claim in claims])"
   ]
  },
  {
   "cell_type": "code",
   "execution_count": null,
   "metadata": {},
   "outputs": [],
   "source": [
    "similarity_matrix = np.dot(corpus_vectors, claim_vectors.T).todense()"
   ]
  },
  {
   "cell_type": "code",
   "execution_count": null,
   "metadata": {},
   "outputs": [],
   "source": [
    "similarity_matrix.shape"
   ]
  },
  {
   "cell_type": "code",
   "execution_count": null,
   "metadata": {},
   "outputs": [],
   "source": [
    "k = 100\n",
    "orders = np.argsort(similarity_matrix,axis=0)\n",
    "retrieved_corpus = {claim[\"id\"]: corpus_ids[orders[:,i][::-1][:k]].squeeze() for i, claim in enumerate(claims)} "
   ]
  },
  {
   "cell_type": "code",
   "execution_count": null,
   "metadata": {},
   "outputs": [],
   "source": [
    "with jsonlines.open(\"SciFact/claims_dev_retrieved_tfidf.jsonl\", 'w') as output:\n",
    "    claim_ids = sorted(list(claims_by_id.keys()))\n",
    "    for id in claim_ids:\n",
    "        claims_by_id[id][\"retrieved_doc_ids\"] = retrieved_corpus[id].tolist()\n",
    "        output.write(claims_by_id[id])"
   ]
  },
  {
   "cell_type": "code",
   "execution_count": null,
   "metadata": {},
   "outputs": [],
   "source": [
    "TP = 0\n",
    "FP = 0\n",
    "\n",
    "for abstract_ids, claim in zip(retrieved_corpus, claims):\n",
    "    gold_ids = claim[\"evidence\"].keys()\n",
    "    for abstract_id in abstract_ids:\n",
    "        if abstract_id in gold_ids:\n",
    "            TP += 1\n",
    "        else: \n",
    "            FP += 1\n",
    "precision = TP/(TP+FP)\n",
    "print(\"Precision:\", precision)"
   ]
  },
  {
   "cell_type": "code",
   "execution_count": null,
   "metadata": {},
   "outputs": [],
   "source": [
    "TP = 0\n",
    "FN = 0\n",
    "\n",
    "for predicted_ids, claim in zip(retrieved_corpus, claims):\n",
    "    for abstract_id in claim[\"evidence\"].keys():\n",
    "        if abstract_id in predicted_ids:\n",
    "            TP += 1\n",
    "        else: \n",
    "            FN += 1\n",
    "recall = TP/(TP+FN)\n",
    "print(\"Recall:\", recall)"
   ]
  },
  {
   "cell_type": "code",
   "execution_count": null,
   "metadata": {},
   "outputs": [],
   "source": [
    "f1 = 2 * precision * recall / (precision + recall)"
   ]
  },
  {
   "cell_type": "code",
   "execution_count": null,
   "metadata": {},
   "outputs": [],
   "source": [
    "f1"
   ]
  },
  {
   "cell_type": "code",
   "execution_count": null,
   "metadata": {},
   "outputs": [],
   "source": []
  }
 ],
 "metadata": {
  "kernelspec": {
   "display_name": "Python 3",
   "language": "python",
   "name": "python3"
  },
  "language_info": {
   "codemirror_mode": {
    "name": "ipython",
    "version": 3
   },
   "file_extension": ".py",
   "mimetype": "text/x-python",
   "name": "python",
   "nbconvert_exporter": "python",
   "pygments_lexer": "ipython3",
   "version": "3.6.12"
  }
 },
 "nbformat": 4,
 "nbformat_minor": 4
}
