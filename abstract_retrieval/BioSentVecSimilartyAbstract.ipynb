{
 "cells": [
  {
   "cell_type": "code",
   "execution_count": 1,
   "metadata": {},
   "outputs": [],
   "source": [
    "from sklearn.metrics.pairwise import cosine_similarity\n",
    "import pickle\n",
    "import json\n",
    "import numpy as np\n",
    "from tqdm import tqdm\n",
    "import jsonlines"
   ]
  },
  {
   "cell_type": "code",
   "execution_count": 2,
   "metadata": {},
   "outputs": [],
   "source": [
    "with open(\"corpus_paragraph_biosentvec.pkl\",\"rb\") as f:\n",
    "    corpus_embeddings = pickle.load(f)"
   ]
  },
  {
   "cell_type": "code",
   "execution_count": 3,
   "metadata": {},
   "outputs": [],
   "source": [
    "with open(\"test_claim_biosentvec.pkl\",\"rb\") as f:\n",
    "    claim_embeddings = pickle.load(f)"
   ]
  },
  {
   "cell_type": "code",
   "execution_count": 4,
   "metadata": {},
   "outputs": [],
   "source": [
    "claim_file = \"SciFact/claims_test.jsonl\""
   ]
  },
  {
   "cell_type": "code",
   "execution_count": 5,
   "metadata": {},
   "outputs": [],
   "source": [
    "claims = []\n",
    "with open(claim_file) as f:\n",
    "    for line in f:\n",
    "        claim = json.loads(line)\n",
    "        claims.append(claim)\n",
    "claims_by_id = {claim['id']:claim for claim in claims}"
   ]
  },
  {
   "cell_type": "code",
   "execution_count": 6,
   "metadata": {},
   "outputs": [
    {
     "name": "stderr",
     "output_type": "stream",
     "text": [
      "100%|██████████| 300/300 [09:49<00:00,  1.97s/it]\n"
     ]
    }
   ],
   "source": [
    "all_similarities = {}\n",
    "for claim_id, claim_embedding in tqdm(claim_embeddings.items()):\n",
    "    this_claim = {}\n",
    "    for abstract_id, abstract_embedding in corpus_embeddings.items():\n",
    "        claim_similarity = cosine_similarity(claim_embedding,abstract_embedding)\n",
    "        this_claim[abstract_id] = claim_similarity\n",
    "    all_similarities[claim_id] = this_claim"
   ]
  },
  {
   "cell_type": "code",
   "execution_count": null,
   "metadata": {},
   "outputs": [],
   "source": [
    "with open(\"dev_paragraph_similarities.pkl\",\"rb\") as f:\n",
    "    all_similarities = pickle.load(f)"
   ]
  },
  {
   "cell_type": "code",
   "execution_count": 7,
   "metadata": {},
   "outputs": [
    {
     "name": "stderr",
     "output_type": "stream",
     "text": [
      "100%|██████████| 300/300 [00:13<00:00, 22.47it/s]\n"
     ]
    }
   ],
   "source": [
    "ordered_corpus = {}\n",
    "for claim_id, claim_similarities in tqdm(all_similarities.items()):\n",
    "    corpus_ids = []\n",
    "    max_similarity = []\n",
    "    for abstract_id, similarity in claim_similarities.items():\n",
    "        corpus_ids.append(abstract_id)\n",
    "        max_similarity.append(np.max(similarity))\n",
    "    corpus_ids = np.array(corpus_ids)\n",
    "    sorted_order = np.argsort(max_similarity)[::-1]\n",
    "    ordered_corpus[claim_id] = corpus_ids[sorted_order]"
   ]
  },
  {
   "cell_type": "code",
   "execution_count": 8,
   "metadata": {},
   "outputs": [],
   "source": [
    "k = 30\n",
    "retrieved_corpus = {ID:v[:k] for ID,v in ordered_corpus.items()}"
   ]
  },
  {
   "cell_type": "code",
   "execution_count": null,
   "metadata": {},
   "outputs": [],
   "source": [
    "TP = 0\n",
    "FP = 0\n",
    "\n",
    "for claim_id, abstract_ids in retrieved_corpus.items():\n",
    "    gold_ids = claims_by_id[claim_id][\"cited_doc_ids\"]\n",
    "    for abstract_id in abstract_ids:\n",
    "        if int(abstract_id) in gold_ids:\n",
    "            TP += 1\n",
    "        else: \n",
    "            FP += 1\n",
    "print(\"Precision:\", TP/(TP+FP))"
   ]
  },
  {
   "cell_type": "code",
   "execution_count": null,
   "metadata": {},
   "outputs": [],
   "source": [
    "TP = 0\n",
    "FN = 0\n",
    "\n",
    "for claim_id, claim in claims_by_id.items():\n",
    "    predicted_ids = retrieved_corpus[claim_id]\n",
    "    for abstract_id in claim[\"cited_doc_ids\"]:\n",
    "        if str(abstract_id) in predicted_ids:\n",
    "            TP += 1\n",
    "        else: \n",
    "            FN += 1\n",
    "print(\"Recall:\", TP/(TP+FN))"
   ]
  },
  {
   "cell_type": "code",
   "execution_count": null,
   "metadata": {},
   "outputs": [],
   "source": [
    "TP = 0\n",
    "FP = 0\n",
    "\n",
    "for claim_id, abstract_ids in retrieved_corpus.items():\n",
    "    gold_ids = claims_by_id[claim_id][\"evidence\"].keys()\n",
    "    for abstract_id in abstract_ids:\n",
    "        if abstract_id in gold_ids:\n",
    "            TP += 1\n",
    "        else: \n",
    "            FP += 1\n",
    "print(\"Precision:\", TP/(TP+FP))"
   ]
  },
  {
   "cell_type": "code",
   "execution_count": null,
   "metadata": {},
   "outputs": [],
   "source": [
    "TP = 0\n",
    "FN = 0\n",
    "\n",
    "for claim_id, claim in claims_by_id.items():\n",
    "    predicted_ids = retrieved_corpus[claim_id]\n",
    "    for abstract_id in claim[\"evidence\"].keys():\n",
    "        if abstract_id in predicted_ids:\n",
    "            TP += 1\n",
    "        else: \n",
    "            FN += 1\n",
    "print(\"Recall:\", TP/(TP+FN))"
   ]
  },
  {
   "cell_type": "code",
   "execution_count": 10,
   "metadata": {},
   "outputs": [],
   "source": [
    "with jsonlines.open(\"SciFact/claims_test_retrieved.jsonl\", 'w') as output:\n",
    "    claim_ids = sorted(list(claims_by_id.keys()))\n",
    "    for id in claim_ids:\n",
    "        claims_by_id[id][\"retrieved_doc_ids\"] = retrieved_corpus[id].tolist()\n",
    "        output.write(claims_by_id[id])"
   ]
  },
  {
   "cell_type": "code",
   "execution_count": 9,
   "metadata": {},
   "outputs": [],
   "source": [
    "with jsonlines.open(\"SciFact/abstract_retrieval_test_\"+str(k)+\".jsonl\", 'w') as output:\n",
    "    claim_ids = sorted(list(claims_by_id.keys()))\n",
    "    for id in claim_ids:\n",
    "        doc_ids = retrieved_corpus[id].tolist()\n",
    "        doc_ids = [int(id) for id in doc_ids]\n",
    "        output.write({\"claim_id\": id, \"doc_ids\": doc_ids})"
   ]
  }
 ],
 "metadata": {
  "kernelspec": {
   "display_name": "Python 3",
   "language": "python",
   "name": "python3"
  },
  "language_info": {
   "codemirror_mode": {
    "name": "ipython",
    "version": 3
   },
   "file_extension": ".py",
   "mimetype": "text/x-python",
   "name": "python",
   "nbconvert_exporter": "python",
   "pygments_lexer": "ipython3",
   "version": "3.6.12"
  }
 },
 "nbformat": 4,
 "nbformat_minor": 4
}
