{
 "cells": [
  {
   "cell_type": "code",
   "execution_count": 1,
   "metadata": {},
   "outputs": [],
   "source": [
    "import sent2vec\n",
    "from nltk import word_tokenize\n",
    "from nltk.corpus import stopwords\n",
    "from string import punctuation\n",
    "from scipy.spatial import distance\n",
    "import pandas as pd\n",
    "import glob\n",
    "import pickle\n",
    "import json"
   ]
  },
  {
   "cell_type": "code",
   "execution_count": 2,
   "metadata": {},
   "outputs": [],
   "source": [
    "claim_file = \"SciFact/claims_test.jsonl\"\n",
    "corpus_file = \"SciFact/corpus.jsonl\""
   ]
  },
  {
   "cell_type": "code",
   "execution_count": 3,
   "metadata": {},
   "outputs": [],
   "source": [
    "corpus = {}\n",
    "with open(corpus_file) as f:\n",
    "    for line in f:\n",
    "        abstract = json.loads(line)\n",
    "        corpus[str(abstract[\"doc_id\"])] = abstract"
   ]
  },
  {
   "cell_type": "code",
   "execution_count": 4,
   "metadata": {},
   "outputs": [],
   "source": [
    "claims = []\n",
    "with open(claim_file) as f:\n",
    "    for line in f:\n",
    "        claim = json.loads(line)\n",
    "        claims.append(claim)"
   ]
  },
  {
   "cell_type": "code",
   "execution_count": 5,
   "metadata": {},
   "outputs": [],
   "source": [
    "def preprocess_sentence(text):\n",
    "    text = text.replace('/', ' / ')\n",
    "    text = text.replace('.-', ' .- ')\n",
    "    text = text.replace('.', ' . ')\n",
    "    text = text.replace('\\'', ' \\' ')\n",
    "    text = text.lower()\n",
    "\n",
    "    tokens = [token for token in word_tokenize(text) if token not in punctuation and token not in stop_words]\n",
    "\n",
    "    return ' '.join(tokens)"
   ]
  },
  {
   "cell_type": "code",
   "execution_count": 6,
   "metadata": {},
   "outputs": [
    {
     "name": "stdout",
     "output_type": "stream",
     "text": [
      "model successfully loaded\n"
     ]
    }
   ],
   "source": [
    "model_path = \"/nas/evidx/corpora/XiangciLi/sentence_embedding/BioSentVec_PubMed_MIMICIII-bigram_d700.bin\"\n",
    "model = sent2vec.Sent2vecModel()\n",
    "try:\n",
    "    model.load_model(model_path)\n",
    "except Exception as e:\n",
    "    print(e)\n",
    "print('model successfully loaded')"
   ]
  },
  {
   "cell_type": "code",
   "execution_count": 7,
   "metadata": {},
   "outputs": [],
   "source": [
    "stop_words = set(stopwords.words('english'))"
   ]
  },
  {
   "cell_type": "code",
   "execution_count": null,
   "metadata": {},
   "outputs": [],
   "source": [
    "# By paragraph embedding\n",
    "corpus_embeddings = {}\n",
    "for k, v in corpus.items():\n",
    "    original_sentences = [v['title']] + v['abstract']\n",
    "    processed_paragraph = \" \".join([preprocess_sentence(sentence) for sentence in original_sentences])\n",
    "    sentence_vector = model.embed_sentence(processed_paragraph)\n",
    "    corpus_embeddings[k] = sentence_vector"
   ]
  },
  {
   "cell_type": "code",
   "execution_count": null,
   "metadata": {},
   "outputs": [],
   "source": [
    "with open(\"corpus_paragraph_biosentvec.pkl\",\"wb\") as f:\n",
    "    pickle.dump(corpus_embeddings,f)"
   ]
  },
  {
   "cell_type": "code",
   "execution_count": 8,
   "metadata": {},
   "outputs": [],
   "source": [
    "claim_embeddings = {}\n",
    "for claim in claims:\n",
    "    processed_sentence = preprocess_sentence(claim['claim'])\n",
    "    sentence_vector = model.embed_sentence(processed_sentence)\n",
    "    claim_embeddings[claim[\"id\"]] = sentence_vector"
   ]
  },
  {
   "cell_type": "code",
   "execution_count": 9,
   "metadata": {},
   "outputs": [],
   "source": [
    "with open(\"test_claim_biosentvec.pkl\",\"wb\") as f:\n",
    "    pickle.dump(claim_embeddings,f)"
   ]
  }
 ],
 "metadata": {
  "kernelspec": {
   "display_name": "Python 3",
   "language": "python",
   "name": "python3"
  },
  "language_info": {
   "codemirror_mode": {
    "name": "ipython",
    "version": 3
   },
   "file_extension": ".py",
   "mimetype": "text/x-python",
   "name": "python",
   "nbconvert_exporter": "python",
   "pygments_lexer": "ipython3",
   "version": "3.6.12"
  }
 },
 "nbformat": 4,
 "nbformat_minor": 4
}
